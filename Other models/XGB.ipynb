{
 "cells": [
  {
   "cell_type": "code",
   "execution_count": 0,
   "metadata": {
    "colab": {},
    "colab_type": "code",
    "id": "y1SzA5VjcRAB"
   },
   "outputs": [],
   "source": [
    "# Import libraries\n",
    "import pandas as pd\n",
    "import numpy as np\n",
    "import seaborn as sns\n",
    "import matplotlib.pyplot as plt\n",
    "from sklearn.feature_extraction.text import CountVectorizer\n",
    "import nltk \n",
    "import string\n",
    "import re\n",
    "%matplotlib inline"
   ]
  },
  {
   "cell_type": "code",
   "execution_count": 0,
   "metadata": {
    "colab": {},
    "colab_type": "code",
    "id": "38aCB6W3e3Xf"
   },
   "outputs": [],
   "source": [
    "df1=pd.read_csv(\"train.csv\")\n",
    "print(df1.shape)\n",
    "df1.head()"
   ]
  },
  {
   "cell_type": "code",
   "execution_count": 0,
   "metadata": {
    "colab": {},
    "colab_type": "code",
    "id": "bIiORFt1e5H3"
   },
   "outputs": [],
   "source": [
    "df1.info()"
   ]
  },
  {
   "cell_type": "code",
   "execution_count": 0,
   "metadata": {
    "colab": {},
    "colab_type": "code",
    "id": "h1JRAsWMfYqw"
   },
   "outputs": [],
   "source": [
    "sns.countplot(x='original_author', hue=\"sentiment_class\", data = df1)"
   ]
  },
  {
   "cell_type": "code",
   "execution_count": 0,
   "metadata": {
    "colab": {},
    "colab_type": "code",
    "id": "zFnNenB9iEAF"
   },
   "outputs": [],
   "source": [
    "sns.countplot( x=\"sentiment_class\", data = df1)"
   ]
  },
  {
   "cell_type": "code",
   "execution_count": 0,
   "metadata": {
    "colab": {},
    "colab_type": "code",
    "id": "PG6tYvZRjDR7"
   },
   "outputs": [],
   "source": [
    "print(df1.lang.nunique())\n",
    "df1.lang.unique()"
   ]
  },
  {
   "cell_type": "code",
   "execution_count": 0,
   "metadata": {
    "colab": {},
    "colab_type": "code",
    "id": "UGG96ySzkEW1"
   },
   "outputs": [],
   "source": [
    "print(df1.original_author.nunique())\n",
    "df1.original_author.unique()"
   ]
  },
  {
   "cell_type": "code",
   "execution_count": 0,
   "metadata": {
    "colab": {},
    "colab_type": "code",
    "id": "nUWFpMSrkoTS"
   },
   "outputs": [],
   "source": [
    "df1.isnull().sum()\n"
   ]
  },
  {
   "cell_type": "code",
   "execution_count": 0,
   "metadata": {
    "colab": {},
    "colab_type": "code",
    "id": "eYJ4By8ecd4H"
   },
   "outputs": [],
   "source": [
    "y=df1['sentiment_class']\n",
    "y.shape"
   ]
  },
  {
   "cell_type": "markdown",
   "metadata": {
    "colab_type": "text",
    "id": "e0AJQrqU7SrE"
   },
   "source": [
    "***   ***"
   ]
  },
  {
   "cell_type": "markdown",
   "metadata": {
    "colab_type": "text",
    "id": "QSgC8zKxzMvZ"
   },
   "source": [
    "***retweet_count***"
   ]
  },
  {
   "cell_type": "code",
   "execution_count": 0,
   "metadata": {
    "colab": {},
    "colab_type": "code",
    "id": "KkyzQ2lloE0b"
   },
   "outputs": [],
   "source": [
    "print(df1.retweet_count[0])\n",
    "isinstance(df1.retweet_count[1], (str))"
   ]
  },
  {
   "cell_type": "code",
   "execution_count": 0,
   "metadata": {
    "colab": {},
    "colab_type": "code",
    "id": "emLOgr98xm0s"
   },
   "outputs": [],
   "source": [
    "print(df1.retweet_count.nunique())\n",
    "df1.retweet_count.unique()"
   ]
  },
  {
   "cell_type": "code",
   "execution_count": 0,
   "metadata": {
    "colab": {},
    "colab_type": "code",
    "id": "MqwDDyefust_"
   },
   "outputs": [],
   "source": [
    "rc=df1['retweet_count']\n",
    "rc"
   ]
  },
  {
   "cell_type": "code",
   "execution_count": 0,
   "metadata": {
    "colab": {},
    "colab_type": "code",
    "id": "Or75HDR5vujP"
   },
   "outputs": [],
   "source": [
    "def convertible(v):\n",
    "    try:\n",
    "        int(v)\n",
    "        return True\n",
    "    except (TypeError, ValueError):\n",
    "        return False\n",
    "\n",
    "\n",
    "res = [int(ele) if convertible(ele)  else int(0) for ele in rc] \n",
    "res"
   ]
  },
  {
   "cell_type": "code",
   "execution_count": 0,
   "metadata": {
    "colab": {},
    "colab_type": "code",
    "id": "jcn9KmyOyBWb"
   },
   "outputs": [],
   "source": [
    "res=pd.DataFrame(res)\n",
    "res.head()"
   ]
  },
  {
   "cell_type": "code",
   "execution_count": 0,
   "metadata": {
    "colab": {},
    "colab_type": "code",
    "id": "9QDf8Kt5wsjY"
   },
   "outputs": [],
   "source": [
    "print(res[0].nunique())\n",
    "res[0].unique()"
   ]
  },
  {
   "cell_type": "code",
   "execution_count": 0,
   "metadata": {
    "colab": {},
    "colab_type": "code",
    "id": "3fz4ui7bpttl"
   },
   "outputs": [],
   "source": [
    "df1['retweet_count']=res[0]\n",
    "df1['retweet_count'].unique()"
   ]
  },
  {
   "cell_type": "markdown",
   "metadata": {
    "colab_type": "text",
    "id": "ZIfwCT4w7ZWz"
   },
   "source": [
    "**   **"
   ]
  },
  {
   "cell_type": "markdown",
   "metadata": {
    "colab_type": "text",
    "id": "N6D-l2jr4S-O"
   },
   "source": [
    "***Orginal_author***"
   ]
  },
  {
   "cell_type": "code",
   "execution_count": 0,
   "metadata": {
    "colab": {},
    "colab_type": "code",
    "id": "oDFTc48Azkyg"
   },
   "outputs": [],
   "source": [
    "print(df1.original_author.nunique())\n",
    "df1.original_author.unique()"
   ]
  },
  {
   "cell_type": "code",
   "execution_count": 0,
   "metadata": {
    "colab": {},
    "colab_type": "code",
    "id": "2mP9arMR03Uq"
   },
   "outputs": [],
   "source": [
    "oa=df1['original_author']\n",
    "oa"
   ]
  },
  {
   "cell_type": "code",
   "execution_count": 0,
   "metadata": {
    "colab": {},
    "colab_type": "code",
    "id": "_LLUEJaU0y3J"
   },
   "outputs": [],
   "source": [
    "def convertibles(v):\n",
    "    try:\n",
    "        float(v)\n",
    "        return True\n",
    "    except (TypeError, ValueError):\n",
    "        return False\n",
    "\n",
    "\n",
    "res2 = [str('unkn') if convertibles(ele) else ele  for ele in oa] \n",
    "res2"
   ]
  },
  {
   "cell_type": "code",
   "execution_count": 0,
   "metadata": {
    "colab": {},
    "colab_type": "code",
    "id": "QpebgtU83a2p"
   },
   "outputs": [],
   "source": [
    "res2=pd.DataFrame(res2)\n",
    "\n",
    "print(res2[0].nunique())\n",
    "res2[0].unique()"
   ]
  },
  {
   "cell_type": "code",
   "execution_count": 0,
   "metadata": {
    "colab": {},
    "colab_type": "code",
    "id": "Ux__o3MR3a6V"
   },
   "outputs": [],
   "source": [
    "df1['original_author']=res2[0]\n",
    "df1['original_author'].nunique()"
   ]
  },
  {
   "cell_type": "markdown",
   "metadata": {
    "colab_type": "text",
    "id": "LT4qLetA7Nz2"
   },
   "source": [
    "**   **"
   ]
  },
  {
   "cell_type": "markdown",
   "metadata": {
    "colab_type": "text",
    "id": "YgWSuWSl76sL"
   },
   "source": [
    "**test_data**"
   ]
  },
  {
   "cell_type": "code",
   "execution_count": 0,
   "metadata": {
    "colab": {},
    "colab_type": "code",
    "id": "_2OgN7_h6vIk"
   },
   "outputs": [],
   "source": [
    "df2=pd.read_csv(\"test.csv\")\n",
    "print(df2.shape)\n",
    "df2.head()\n"
   ]
  },
  {
   "cell_type": "code",
   "execution_count": 0,
   "metadata": {
    "colab": {},
    "colab_type": "code",
    "id": "9rQDW-IE0Gub"
   },
   "outputs": [],
   "source": []
  },
  {
   "cell_type": "code",
   "execution_count": 0,
   "metadata": {
    "colab": {},
    "colab_type": "code",
    "id": "_PgZ_fpG6vLo"
   },
   "outputs": [],
   "source": [
    "print(df2.retweet_count.nunique())\n",
    "df2.retweet_count.unique()"
   ]
  },
  {
   "cell_type": "code",
   "execution_count": 0,
   "metadata": {
    "colab": {},
    "colab_type": "code",
    "id": "ThhUjho28LY2"
   },
   "outputs": [],
   "source": [
    "rct=df2['retweet_count']\n",
    "rct"
   ]
  },
  {
   "cell_type": "code",
   "execution_count": 0,
   "metadata": {
    "colab": {},
    "colab_type": "code",
    "id": "6hTzrMkJ8Lbt"
   },
   "outputs": [],
   "source": [
    "def convertible(v):\n",
    "    try:\n",
    "        int(v)\n",
    "        return True\n",
    "    except (TypeError, ValueError):\n",
    "        return False\n",
    "\n",
    "\n",
    "rest = [int(ele) if convertible(ele)  else int(0) for ele in rct] \n",
    "rest"
   ]
  },
  {
   "cell_type": "code",
   "execution_count": 0,
   "metadata": {
    "colab": {},
    "colab_type": "code",
    "id": "6_-VMlHt8Le3"
   },
   "outputs": [],
   "source": [
    "rest=pd.DataFrame(rest)\n",
    "rest.head()"
   ]
  },
  {
   "cell_type": "code",
   "execution_count": 0,
   "metadata": {
    "colab": {},
    "colab_type": "code",
    "id": "kc6VvHOk8dRU"
   },
   "outputs": [],
   "source": [
    "print(rest[0].nunique())\n",
    "rest[0].unique()"
   ]
  },
  {
   "cell_type": "code",
   "execution_count": 0,
   "metadata": {
    "colab": {},
    "colab_type": "code",
    "id": "BsIeekPt8dUT"
   },
   "outputs": [],
   "source": [
    "df2['retweet_count']=rest[0]\n",
    "df2['retweet_count'].unique()"
   ]
  },
  {
   "cell_type": "markdown",
   "metadata": {
    "colab_type": "text",
    "id": "zxq7avvd-nVc"
   },
   "source": [
    "**    **"
   ]
  },
  {
   "cell_type": "code",
   "execution_count": 0,
   "metadata": {
    "colab": {},
    "colab_type": "code",
    "id": "VG0FUxC38dXa"
   },
   "outputs": [],
   "source": [
    "print(df2.original_author.nunique())\n",
    "#df2.original_author.unique()"
   ]
  },
  {
   "cell_type": "code",
   "execution_count": 0,
   "metadata": {
    "colab": {},
    "colab_type": "code",
    "id": "3EG3KccJ-3UM"
   },
   "outputs": [],
   "source": [
    "oat=df2['original_author']\n",
    "oat"
   ]
  },
  {
   "cell_type": "code",
   "execution_count": 0,
   "metadata": {
    "colab": {},
    "colab_type": "code",
    "id": "O0GL7C14_EMt"
   },
   "outputs": [],
   "source": [
    "def convertibles(v):\n",
    "    try:\n",
    "        float(v)\n",
    "        return True\n",
    "    except (TypeError, ValueError):\n",
    "        return False\n",
    "\n",
    "\n",
    "rest2 = [str('unkn') if convertibles(ele) else ele  for ele in oat] \n",
    "rest2"
   ]
  },
  {
   "cell_type": "code",
   "execution_count": 0,
   "metadata": {
    "colab": {},
    "colab_type": "code",
    "id": "Ni6L-DIL_Joz"
   },
   "outputs": [],
   "source": [
    "rest2=pd.DataFrame(rest2)\n",
    "\n",
    "print(rest2[0].nunique())\n",
    "#rest2[0].unique()"
   ]
  },
  {
   "cell_type": "code",
   "execution_count": 0,
   "metadata": {
    "colab": {},
    "colab_type": "code",
    "id": "2IEdxIiU_Jrr"
   },
   "outputs": [],
   "source": [
    "df2['original_author']=rest2[0]\n",
    "df2['original_author'].nunique()"
   ]
  },
  {
   "cell_type": "code",
   "execution_count": 0,
   "metadata": {
    "colab": {},
    "colab_type": "code",
    "id": "bQzL1xiI_JuY"
   },
   "outputs": [],
   "source": []
  },
  {
   "cell_type": "markdown",
   "metadata": {
    "colab_type": "text",
    "id": "xrUZgKp__xRE"
   },
   "source": [
    "**    **"
   ]
  },
  {
   "cell_type": "code",
   "execution_count": 0,
   "metadata": {
    "colab": {},
    "colab_type": "code",
    "id": "WIeFMpfH_0t2"
   },
   "outputs": [],
   "source": [
    "print(df1.head())\n",
    "df1.info()"
   ]
  },
  {
   "cell_type": "code",
   "execution_count": 0,
   "metadata": {
    "colab": {},
    "colab_type": "code",
    "id": "_QQAheND_70O"
   },
   "outputs": [],
   "source": [
    "print(df2.head())\n",
    "df2.info()"
   ]
  },
  {
   "cell_type": "code",
   "execution_count": 0,
   "metadata": {
    "colab": {},
    "colab_type": "code",
    "id": "5rDu2r0iB1AS"
   },
   "outputs": [],
   "source": [
    "np.intersect1d([1,2,3,1,4,3,5,7], [1,3,4,6])        #testing"
   ]
  },
  {
   "cell_type": "code",
   "execution_count": 0,
   "metadata": {
    "colab": {},
    "colab_type": "code",
    "id": "5zPGMpbHAAMr"
   },
   "outputs": [],
   "source": [
    "com=np.intersect1d(df1.original_author, df2.original_author)\n",
    "com.shape         #246 common in(1528-736)"
   ]
  },
  {
   "cell_type": "markdown",
   "metadata": {
    "colab_type": "text",
    "id": "VvZ9c51EDHVA"
   },
   "source": [
    "**   **"
   ]
  },
  {
   "cell_type": "markdown",
   "metadata": {
    "colab_type": "text",
    "id": "KIQnYHHuDPl3"
   },
   "source": [
    "***tweets***"
   ]
  },
  {
   "cell_type": "code",
   "execution_count": 0,
   "metadata": {
    "colab": {},
    "colab_type": "code",
    "id": "DYSinKziDTOe"
   },
   "outputs": [],
   "source": [
    "x1=df1['original_text']\n",
    "print(x1.shape)\n",
    "x1.head"
   ]
  },
  {
   "cell_type": "code",
   "execution_count": 0,
   "metadata": {
    "colab": {},
    "colab_type": "code",
    "id": "T38CRc_TDe-H"
   },
   "outputs": [],
   "source": [
    "x2=df2['original_text']\n",
    "print(x2.shape)\n",
    "x2.tail()"
   ]
  },
  {
   "cell_type": "code",
   "execution_count": 0,
   "metadata": {
    "colab": {},
    "colab_type": "code",
    "id": "7aBgQ6jwEKkj"
   },
   "outputs": [],
   "source": [
    "x=pd.concat([x1,x2],axis=0)\n",
    "x=pd.DataFrame(x)\n",
    "x.reset_index(inplace=True)\n",
    "x=x['original_text']\n",
    "x=pd.DataFrame(x)\n",
    "print(x.shape)\n",
    "x.tail()"
   ]
  },
  {
   "cell_type": "markdown",
   "metadata": {
    "colab_type": "text",
    "id": "5SMmbEcxAIAh"
   },
   "source": [
    "**Data cleaning**"
   ]
  },
  {
   "cell_type": "code",
   "execution_count": 0,
   "metadata": {
    "colab": {},
    "colab_type": "code",
    "id": "u9fDTanWIcYD"
   },
   "outputs": [],
   "source": [
    "def remove_pattern1(input_txt, pattern):\n",
    "    r = re.findall(pattern, input_txt)\n",
    "    for i in r:\n",
    "        input_txt = re.sub(i, '', input_txt)\n",
    "        \n",
    "    return input_txt    \n"
   ]
  },
  {
   "cell_type": "code",
   "execution_count": 0,
   "metadata": {
    "colab": {},
    "colab_type": "code",
    "id": "fQm6Dzf8In26"
   },
   "outputs": [],
   "source": [
    "# remove twitter handles (@user)\n",
    "x['tidy_tweet'] = np.vectorize(remove_pattern1)(x['original_text'], \"@[\\w]*\")"
   ]
  },
  {
   "cell_type": "code",
   "execution_count": 0,
   "metadata": {
    "colab": {},
    "colab_type": "code",
    "id": "R1GeglHrI1Vb"
   },
   "outputs": [],
   "source": [
    "x.head()"
   ]
  },
  {
   "cell_type": "code",
   "execution_count": 0,
   "metadata": {
    "colab": {},
    "colab_type": "code",
    "id": "lxI9QobyIY3k"
   },
   "outputs": [],
   "source": [
    "\n"
   ]
  },
  {
   "cell_type": "markdown",
   "metadata": {
    "colab_type": "text",
    "id": "7XyJw-G0TY0m"
   },
   "source": [
    "**removing links and mentions**"
   ]
  },
  {
   "cell_type": "code",
   "execution_count": 0,
   "metadata": {
    "colab": {},
    "colab_type": "code",
    "id": "c-rCYZQsFUc2"
   },
   "outputs": [],
   "source": [
    "def remove_pattern(pattern):\n",
    "  for i in range(x['tidy_tweet'].shape[0]):\n",
    "    twt=x['tidy_tweet'][i]\n",
    "    res=twt.split(pattern, maxsplit=1) \n",
    "    x['tidy_tweet'][i]=res[0]"
   ]
  },
  {
   "cell_type": "code",
   "execution_count": 0,
   "metadata": {
    "colab": {},
    "colab_type": "code",
    "id": "OWOV8lAEG7DT"
   },
   "outputs": [],
   "source": [
    "remove_pattern('http')"
   ]
  },
  {
   "cell_type": "code",
   "execution_count": 0,
   "metadata": {
    "colab": {},
    "colab_type": "code",
    "id": "cnmM3BRlSgHF"
   },
   "outputs": [],
   "source": [
    "remove_pattern('pic.twitter')"
   ]
  },
  {
   "cell_type": "code",
   "execution_count": 0,
   "metadata": {
    "colab": {},
    "colab_type": "code",
    "id": "_hFWLWE_SgLa"
   },
   "outputs": [],
   "source": []
  },
  {
   "cell_type": "code",
   "execution_count": 0,
   "metadata": {
    "colab": {},
    "colab_type": "code",
    "id": "vXELbhn0A0wE"
   },
   "outputs": [],
   "source": [
    "x.head"
   ]
  },
  {
   "cell_type": "code",
   "execution_count": 0,
   "metadata": {
    "colab": {},
    "colab_type": "code",
    "id": "nKlpgdCpRwcc"
   },
   "outputs": [],
   "source": [
    "x['original_text'][7]"
   ]
  },
  {
   "cell_type": "code",
   "execution_count": 0,
   "metadata": {
    "colab": {},
    "colab_type": "code",
    "id": "-Ui6RE6kBu31"
   },
   "outputs": [],
   "source": [
    "x['tidy_tweet'][7]"
   ]
  },
  {
   "cell_type": "markdown",
   "metadata": {
    "colab_type": "text",
    "id": "zOWTZk8YTndw"
   },
   "source": [
    "**   **"
   ]
  },
  {
   "cell_type": "markdown",
   "metadata": {
    "colab_type": "text",
    "id": "yi1tIyBSVwRt"
   },
   "source": [
    "**NLTK**"
   ]
  },
  {
   "cell_type": "code",
   "execution_count": 0,
   "metadata": {
    "colab": {},
    "colab_type": "code",
    "id": "z1A6BR5OTmVY"
   },
   "outputs": [],
   "source": [
    "import re\n",
    "import nltk\n",
    "nltk.download('stopwords')"
   ]
  },
  {
   "cell_type": "code",
   "execution_count": 0,
   "metadata": {
    "colab": {},
    "colab_type": "code",
    "id": "g3sCSyBdRWmF"
   },
   "outputs": [],
   "source": [
    "from nltk.corpus import stopwords\n",
    "from nltk.stem.porter import PorterStemmer\n",
    "corpus = []\n",
    "for i in range(0, 4622):\n",
    "    review = re.sub('[^a-zA-Z]', ' ',x['tidy_tweet'][i])\n",
    "    review = review.lower()\n",
    "    review = review.split()\n",
    "    ps = PorterStemmer()\n",
    "    review = [ps.stem(word) for word in review if not word in set(stopwords.words('english'))]\n",
    "    review = ' '.join(review)\n",
    "    corpus.append(review)"
   ]
  },
  {
   "cell_type": "code",
   "execution_count": 0,
   "metadata": {
    "colab": {},
    "colab_type": "code",
    "id": "1_9_igGtSNOY"
   },
   "outputs": [],
   "source": [
    "corpus[2]"
   ]
  },
  {
   "cell_type": "code",
   "execution_count": 0,
   "metadata": {
    "colab": {},
    "colab_type": "code",
    "id": "Wmsn-83fXao8"
   },
   "outputs": [],
   "source": [
    "x['tidy_tweet'][2]"
   ]
  },
  {
   "cell_type": "markdown",
   "metadata": {
    "colab_type": "text",
    "id": "zyPbsBb3gAZF"
   },
   "source": [
    "**   **"
   ]
  },
  {
   "cell_type": "markdown",
   "metadata": {
    "colab_type": "text",
    "id": "OpyvV4Cdf6FM"
   },
   "source": [
    "**Embedding Representation**"
   ]
  },
  {
   "cell_type": "code",
   "execution_count": 0,
   "metadata": {
    "colab": {},
    "colab_type": "code",
    "id": "EPjbALMvfmQZ"
   },
   "outputs": [],
   "source": [
    "from tensorflow.keras.layers import Embedding\n",
    "from tensorflow.keras.preprocessing.sequence import pad_sequences\n",
    "from tensorflow.keras.models import Sequential\n",
    "from keras import utils\n",
    "from tensorflow.keras.preprocessing.text import one_hot\n",
    "from tensorflow.keras.layers import LSTM\n",
    "from tensorflow.keras.layers import Dense \n",
    "from tensorflow.keras.layers import Dropout"
   ]
  },
  {
   "cell_type": "code",
   "execution_count": 0,
   "metadata": {
    "colab": {},
    "colab_type": "code",
    "id": "Ud2VjC56gHRW"
   },
   "outputs": [],
   "source": [
    "voc_size=5000"
   ]
  },
  {
   "cell_type": "code",
   "execution_count": 0,
   "metadata": {
    "colab": {},
    "colab_type": "code",
    "id": "RBNqUAe5fmVu"
   },
   "outputs": [],
   "source": [
    "onehot_repr=[one_hot(words,voc_size)for words in corpus] "
   ]
  },
  {
   "cell_type": "code",
   "execution_count": 0,
   "metadata": {
    "colab": {},
    "colab_type": "code",
    "id": "J15Y6bPsfmZx"
   },
   "outputs": [],
   "source": [
    "sent_length=40\n",
    "embedded_docs=pad_sequences(onehot_repr,padding='pre',maxlen=sent_length)\n",
    "print(embedded_docs)"
   ]
  },
  {
   "cell_type": "code",
   "execution_count": 0,
   "metadata": {
    "colab": {},
    "colab_type": "code",
    "id": "YZG8kJ0afmfR"
   },
   "outputs": [],
   "source": [
    "embedded_docs[10]"
   ]
  },
  {
   "cell_type": "code",
   "execution_count": 0,
   "metadata": {
    "colab": {},
    "colab_type": "code",
    "id": "NOMkQy6cfmic"
   },
   "outputs": [],
   "source": []
  },
  {
   "cell_type": "code",
   "execution_count": 0,
   "metadata": {
    "colab": {},
    "colab_type": "code",
    "id": "i-hp2c-4gcSg"
   },
   "outputs": [],
   "source": [
    "import numpy as np\n",
    "X_=np.array(embedded_docs)\n",
    "print(X_.shape)\n"
   ]
  },
  {
   "cell_type": "markdown",
   "metadata": {
    "colab_type": "text",
    "id": "y9M9PvC98faA"
   },
   "source": [
    "**   **"
   ]
  },
  {
   "cell_type": "code",
   "execution_count": 0,
   "metadata": {
    "colab": {},
    "colab_type": "code",
    "id": "VONdqFFu8c45"
   },
   "outputs": [],
   "source": [
    "f1=df1[['retweet_count','original_author']]\n",
    "print(f1.shape)\n",
    "f1.head()\n"
   ]
  },
  {
   "cell_type": "code",
   "execution_count": 0,
   "metadata": {
    "colab": {},
    "colab_type": "code",
    "id": "QAVS1ZvKJQJs"
   },
   "outputs": [],
   "source": [
    "f2=df2[['retweet_count','original_author']]\n",
    "print(f2.shape)\n",
    "f2.head()"
   ]
  },
  {
   "cell_type": "code",
   "execution_count": 0,
   "metadata": {
    "colab": {},
    "colab_type": "code",
    "id": "_ogylDHbJQR7"
   },
   "outputs": [],
   "source": [
    "f=pd.concat([f1,f2],axis=0)\n",
    "f.reset_index(inplace=True)\n",
    "f=f.drop(\"index\",axis=1)\n",
    "print(f.shape)\n",
    "f.head()"
   ]
  },
  {
   "cell_type": "code",
   "execution_count": 0,
   "metadata": {
    "colab": {},
    "colab_type": "code",
    "id": "ONxCiQae8cxx"
   },
   "outputs": [],
   "source": [
    "f=pd.get_dummies(f, prefix=['original_author'])\n",
    "print(f.shape)"
   ]
  },
  {
   "cell_type": "code",
   "execution_count": 0,
   "metadata": {
    "colab": {},
    "colab_type": "code",
    "id": "dMEqUfwOK46W"
   },
   "outputs": [],
   "source": [
    "X_pd=pd.DataFrame(X_)\n",
    "X=pd.concat([X_pd,f],axis=1)\n",
    "X.reset_index(inplace=True)\n",
    "X=X.drop(\"index\",axis=1)\n",
    "print(X.shape)\n",
    "X.tail()"
   ]
  },
  {
   "cell_type": "code",
   "execution_count": 0,
   "metadata": {
    "colab": {},
    "colab_type": "code",
    "id": "Iuv4jP0MK49a"
   },
   "outputs": [],
   "source": []
  },
  {
   "cell_type": "code",
   "execution_count": 0,
   "metadata": {
    "colab": {},
    "colab_type": "code",
    "id": "gcEDkJ7mgc9C"
   },
   "outputs": [],
   "source": [
    "xtrain=X.iloc[:3235,: ].values\n",
    "xtest=X.iloc[3235:,: ].values\n",
    "print(xtrain.shape)\n",
    "xtest.shape"
   ]
  },
  {
   "cell_type": "code",
   "execution_count": 0,
   "metadata": {
    "colab": {},
    "colab_type": "code",
    "id": "syAANBFy-2vz"
   },
   "outputs": [],
   "source": []
  },
  {
   "cell_type": "code",
   "execution_count": 0,
   "metadata": {
    "colab": {},
    "colab_type": "code",
    "id": "Pu9q6eiwjHpq"
   },
   "outputs": [],
   "source": []
  },
  {
   "cell_type": "code",
   "execution_count": 0,
   "metadata": {
    "colab": {},
    "colab_type": "code",
    "id": "qpTuir6CgdAK"
   },
   "outputs": [],
   "source": [
    "from sklearn.model_selection import train_test_split\n",
    "X_train, X_val, y_train, y_val  = train_test_split(xtrain,y ,test_size=0.15, random_state=0)"
   ]
  },
  {
   "cell_type": "markdown",
   "metadata": {
    "colab_type": "text",
    "id": "LcMIVtj4mE8b"
   },
   "source": [
    "**svm**"
   ]
  },
  {
   "cell_type": "code",
   "execution_count": 0,
   "metadata": {
    "colab": {},
    "colab_type": "code",
    "id": "lVYZdpxXlvsa"
   },
   "outputs": [],
   "source": [
    "from sklearn.svm import SVC\n",
    "classifier1 = SVC(kernel = 'poly', random_state = 0, degree=4,C=10)\n",
    "classifier1.fit(X_train, y_train)\n"
   ]
  },
  {
   "cell_type": "code",
   "execution_count": 0,
   "metadata": {
    "colab": {},
    "colab_type": "code",
    "id": "ESk4xsfflvvE"
   },
   "outputs": [],
   "source": [
    "from sklearn.model_selection import cross_val_score\n",
    "acc=cross_val_score(estimator=classifier1, X=X_train, y=y_train , cv=10)\n",
    "\n",
    "print(acc.mean())\n",
    "print(acc.std())\n",
    "acc\n"
   ]
  },
  {
   "cell_type": "code",
   "execution_count": 0,
   "metadata": {
    "colab": {},
    "colab_type": "code",
    "id": "9mlMa16-nV-R"
   },
   "outputs": [],
   "source": [
    "y_pred1 = classifier1.predict(X_val)\n",
    "y_pred1.shape"
   ]
  },
  {
   "cell_type": "code",
   "execution_count": 0,
   "metadata": {
    "colab": {},
    "colab_type": "code",
    "id": "cCXH1o6YneWp"
   },
   "outputs": [],
   "source": [
    "from sklearn.metrics import confusion_matrix\n",
    "cm = confusion_matrix(y_val, y_pred1)\n",
    "cm"
   ]
  },
  {
   "cell_type": "code",
   "execution_count": 0,
   "metadata": {
    "colab": {},
    "colab_type": "code",
    "id": "70OxHY0ktDlM"
   },
   "outputs": [],
   "source": []
  },
  {
   "cell_type": "code",
   "execution_count": 0,
   "metadata": {
    "colab": {},
    "colab_type": "code",
    "id": "DfclzL6Dosbq"
   },
   "outputs": [],
   "source": [
    "array([[ 21,  89,   7], \n",
    "       [ 30, 190,  23],\n",
    "       [ 10, 101,  15]])"
   ]
  },
  {
   "cell_type": "code",
   "execution_count": 0,
   "metadata": {
    "colab": {},
    "colab_type": "code",
    "id": "L586dBz0lvyE"
   },
   "outputs": [],
   "source": [
    "'''from sklearn.model_selection import GridSearchCV\n",
    "parameters = [{'C':[15,10]}] #svm-2\n",
    "grid_search = GridSearchCV(estimator = classifier1,\n",
    "                           param_grid = parameters,\n",
    "                           scoring = 'accuracy',\n",
    "                           cv = 10,\n",
    "                           n_jobs = -1)\n",
    "grid_search = grid_search.fit(x, y)\n",
    "best_accuracy = grid_search.best_score_\n",
    "best_parameters = grid_search.best_params_\n",
    "print('done')\n",
    "print(best_accuracy)\n",
    "best_parameters'''"
   ]
  },
  {
   "cell_type": "code",
   "execution_count": 0,
   "metadata": {
    "colab": {},
    "colab_type": "code",
    "id": "-fijbCwQn514"
   },
   "outputs": [],
   "source": [
    "226/486"
   ]
  },
  {
   "cell_type": "code",
   "execution_count": 0,
   "metadata": {
    "colab": {},
    "colab_type": "code",
    "id": "HApO9l5Ulv1W"
   },
   "outputs": [],
   "source": [
    "y_pred2 = classifier1.predict(xtest)\n",
    "y_pred2.shape"
   ]
  },
  {
   "cell_type": "code",
   "execution_count": 0,
   "metadata": {
    "colab": {},
    "colab_type": "code",
    "id": "JJNK68arwDIv"
   },
   "outputs": [],
   "source": [
    "ID=df2['id']\n",
    "ID.shape"
   ]
  },
  {
   "cell_type": "code",
   "execution_count": 0,
   "metadata": {
    "colab": {},
    "colab_type": "code",
    "id": "kQ2Fy2Crlv4L"
   },
   "outputs": [],
   "source": [
    "pred=pd.DataFrame(y_pred2)\n",
    "datasets=pd.concat([ID,pred], axis=1)\n",
    "\n",
    "datasets.columns =['id', 'sentiment_class']\n",
    "datasets.to_csv('asvm3.csv',index=False)\n",
    "!cp asvm3.csv \"drive/My Drive/\""
   ]
  },
  {
   "cell_type": "code",
   "execution_count": 0,
   "metadata": {
    "colab": {},
    "colab_type": "code",
    "id": "IfwvsYQ8wDwv"
   },
   "outputs": [],
   "source": [
    "print(pred[0].value_counts())\n",
    "sns.countplot( x=-pred[0], data = pred)"
   ]
  },
  {
   "cell_type": "markdown",
   "metadata": {
    "colab_type": "text",
    "id": "WVa3NaF7DAZX"
   },
   "source": [
    "**   **"
   ]
  },
  {
   "cell_type": "code",
   "execution_count": 0,
   "metadata": {
    "colab": {},
    "colab_type": "code",
    "id": "LtiVBRjZxdBA"
   },
   "outputs": [],
   "source": [
    "from xgboost import XGBClassifier\n",
    "classifier4=XGBClassifier(n_estimators=600,reg_lambda=0.1 ,max_depth=4,seed=42,learning_rate=0.1,tree_method='gpu_exact',colsample_bytree=0.9)\n",
    "classifier4.fit(X_train, y_train)"
   ]
  },
  {
   "cell_type": "code",
   "execution_count": 0,
   "metadata": {
    "colab": {},
    "colab_type": "code",
    "id": "JbdQfAwtxnA1"
   },
   "outputs": [],
   "source": [
    "from sklearn.model_selection import cross_val_score\n",
    "acc=cross_val_score(estimator=classifier4, X=X_train, y=y_train , cv=10)\n",
    "\n",
    "print(acc.mean())\n",
    "print(acc.std())\n",
    "acc"
   ]
  },
  {
   "cell_type": "code",
   "execution_count": 0,
   "metadata": {
    "colab": {},
    "colab_type": "code",
    "id": "VQPCtOrExvzj"
   },
   "outputs": [],
   "source": [
    "y_pred1 = classifier4.predict(X_val)\n",
    "print(y_pred1.shape)\n",
    "\n",
    "from sklearn.metrics import confusion_matrix\n",
    "cm = confusion_matrix(y_val, y_pred1)\n",
    "cm"
   ]
  },
  {
   "cell_type": "code",
   "execution_count": 0,
   "metadata": {
    "colab": {},
    "colab_type": "code",
    "id": "XTT52aq8F3qp"
   },
   "outputs": [],
   "source": [
    "array([[  9,  97,  11],\n",
    "       [ 19, 192,  32],\n",
    "       [ 17,  88,  21]])\n"
   ]
  },
  {
   "cell_type": "code",
   "execution_count": 0,
   "metadata": {
    "colab": {},
    "colab_type": "code",
    "id": "wo-BScClDhe2"
   },
   "outputs": [],
   "source": [
    "y_pred2 = classifier4.predict(xtest)\n",
    "y_pred2.shape"
   ]
  },
  {
   "cell_type": "code",
   "execution_count": 0,
   "metadata": {
    "colab": {},
    "colab_type": "code",
    "id": "l7gbrelLDhh5"
   },
   "outputs": [],
   "source": [
    "ID=df2['id']\n",
    "ID.shape"
   ]
  },
  {
   "cell_type": "code",
   "execution_count": 0,
   "metadata": {
    "colab": {},
    "colab_type": "code",
    "id": "8x7LDtZpDhkm"
   },
   "outputs": [],
   "source": [
    "pred=pd.DataFrame(y_pred2)\n",
    "datasets=pd.concat([ID,pred], axis=1)\n",
    "\n",
    "datasets.columns =['id', 'sentiment_class']\n",
    "datasets.to_csv('axg23.csv',index=False)\n",
    "!cp axg23.csv \"drive/My Drive/\""
   ]
  },
  {
   "cell_type": "code",
   "execution_count": 0,
   "metadata": {
    "colab": {},
    "colab_type": "code",
    "id": "rBKPsHZ2DpDq"
   },
   "outputs": [],
   "source": [
    "print(pred[0].value_counts())\n",
    "sns.countplot( x=pred[0], data = pred)"
   ]
  },
  {
   "cell_type": "code",
   "execution_count": 0,
   "metadata": {
    "colab": {},
    "colab_type": "code",
    "id": "6o060bVoI3PI"
   },
   "outputs": [],
   "source": []
  }
 ],
 "metadata": {
  "accelerator": "GPU",
  "colab": {
   "collapsed_sections": [],
   "name": "new1.ipynb",
   "provenance": []
  },
  "kernelspec": {
   "display_name": "Python 3",
   "language": "python",
   "name": "python3"
  },
  "language_info": {
   "codemirror_mode": {
    "name": "ipython",
    "version": 3
   },
   "file_extension": ".py",
   "mimetype": "text/x-python",
   "name": "python",
   "nbconvert_exporter": "python",
   "pygments_lexer": "ipython3",
   "version": "3.6.10"
  }
 },
 "nbformat": 4,
 "nbformat_minor": 1
}
