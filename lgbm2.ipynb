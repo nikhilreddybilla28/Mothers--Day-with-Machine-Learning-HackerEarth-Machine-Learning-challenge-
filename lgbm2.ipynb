{
 "cells": [
  {
   "cell_type": "code",
   "execution_count": 0,
   "metadata": {
    "colab": {},
    "colab_type": "code",
    "id": "LnPCtQ89l8Hy"
   },
   "outputs": [],
   "source": [
    "import pandas as pd\n",
    "import numpy as np"
   ]
  },
  {
   "cell_type": "code",
   "execution_count": 0,
   "metadata": {
    "colab": {},
    "colab_type": "code",
    "id": "XNlvkO6JBAg1"
   },
   "outputs": [],
   "source": [
    "from sklearn.metrics import f1_score\n",
    "import numpy as np\n",
    "\n",
    "def f1_eval(y_pred, dtrain):\n",
    "    y_true = dtrain.get_label()\n",
    "    err = 1-f1_score(y_true, np.round(y_pred))\n",
    "    return 'f1_err', err"
   ]
  },
  {
   "cell_type": "code",
   "execution_count": 2,
   "metadata": {
    "colab": {
     "base_uri": "https://localhost:8080/",
     "height": 34
    },
    "colab_type": "code",
    "id": "CB9HpCNamhnx",
    "outputId": "7ebb72a1-8831-472d-a807-84d32426e522"
   },
   "outputs": [
    {
     "data": {
      "text/plain": [
       "(3235, 2054)"
      ]
     },
     "execution_count": 2,
     "metadata": {
      "tags": []
     },
     "output_type": "execute_result"
    }
   ],
   "source": [
    "xtrain=pd.read_csv('xtrain.csv')\n",
    "xtrain.shape"
   ]
  },
  {
   "cell_type": "code",
   "execution_count": 7,
   "metadata": {
    "colab": {
     "base_uri": "https://localhost:8080/",
     "height": 34
    },
    "colab_type": "code",
    "id": "T_uVtVTGmk1I",
    "outputId": "0e5ae4b2-a5f4-42e8-e95c-ddbce3dc9a68"
   },
   "outputs": [
    {
     "data": {
      "text/plain": [
       "(3235, 1)"
      ]
     },
     "execution_count": 7,
     "metadata": {
      "tags": []
     },
     "output_type": "execute_result"
    }
   ],
   "source": [
    "y=pd.read_csv('y.csv')\n",
    "xtest=pd.read_csv('xtest.csv')\n",
    "y.shape"
   ]
  },
  {
   "cell_type": "code",
   "execution_count": 11,
   "metadata": {
    "colab": {
     "base_uri": "https://localhost:8080/",
     "height": 84
    },
    "colab_type": "code",
    "id": "vBoycROe1rVS",
    "outputId": "9efc596c-f066-4cc8-ddaa-97f06294d0a9"
   },
   "outputs": [
    {
     "name": "stdout",
     "output_type": "stream",
     "text": [
      " 0    1701\n",
      "-1     769\n",
      " 1     765\n",
      "Name: sentiment_class, dtype: int64\n"
     ]
    }
   ],
   "source": [
    "print(y['sentiment_class'].value_counts())"
   ]
  },
  {
   "cell_type": "code",
   "execution_count": 0,
   "metadata": {
    "colab": {},
    "colab_type": "code",
    "id": "ckIC9-nIz9JM"
   },
   "outputs": [],
   "source": [
    "df2=pd.read_csv('test.csv')"
   ]
  },
  {
   "cell_type": "code",
   "execution_count": 0,
   "metadata": {
    "colab": {},
    "colab_type": "code",
    "id": "AYkKlcWjmmbG"
   },
   "outputs": [],
   "source": [
    "from sklearn.model_selection import train_test_split\n",
    "X_train, X_val, y_train, y_val  = train_test_split(xtrain,y ,test_size=0.15, random_state=0)"
   ]
  },
  {
   "cell_type": "code",
   "execution_count": 0,
   "metadata": {
    "colab": {},
    "colab_type": "code",
    "id": "UrO6RtZYmpe8"
   },
   "outputs": [],
   "source": [
    "from sklearn.datasets import make_classification\n",
    "from lightgbm import LGBMClassifier\n",
    "from sklearn.model_selection import cross_val_score\n",
    "from sklearn.model_selection import RepeatedStratifiedKFold"
   ]
  },
  {
   "cell_type": "markdown",
   "metadata": {
    "colab_type": "text",
    "id": "Hlu1p2JCZmrp"
   },
   "source": [
    "scale_pos_weight"
   ]
  },
  {
   "cell_type": "code",
   "execution_count": 185,
   "metadata": {
    "colab": {
     "base_uri": "https://localhost:8080/",
     "height": 34
    },
    "colab_type": "code",
    "id": "Mi_fMI1-te_x",
    "outputId": "7c8fc356-0bdd-47ce-d988-99a74325d5a5"
   },
   "outputs": [
    {
     "name": "stdout",
     "output_type": "stream",
     "text": [
      "done\n"
     ]
    }
   ],
   "source": [
    "model = LGBMClassifier(boosting_type='gbdt',objective='multiclass',num_class=3,metric='multi_logloss',n_estimators=665,max_depth=8,\n",
    "                       num_leaves=225,learning_rate=0.3,lambda_l2=0.03,max_bin=525,use_missing=True,min_data_in_leaf=2,\n",
    "                       random_seed=42,min_data_in_bin=4,bin_construct_sample_cnt=300000,is_unbalance=True,num_trees = 500,num_thread = 12,verbose=0)\n",
    "cv = RepeatedStratifiedKFold(n_splits=3, n_repeats=3, random_state=1)\n",
    "n_scores = cross_val_score(model, X_train, y_train, scoring='accuracy', cv=cv, n_jobs=-1, error_score='raise')\n",
    "print(\"done\")"
   ]
  },
  {
   "cell_type": "code",
   "execution_count": 186,
   "metadata": {
    "colab": {
     "base_uri": "https://localhost:8080/",
     "height": 34
    },
    "colab_type": "code",
    "id": "90XbYBdWtfCp",
    "outputId": "46f074cf-9314-4132-9cad-990987854720"
   },
   "outputs": [
    {
     "name": "stdout",
     "output_type": "stream",
     "text": [
      "Accuracy: 0.475 (0.012)\n"
     ]
    }
   ],
   "source": [
    "print('Accuracy: %.3f (%.3f)' % (np.mean(n_scores), np.std(n_scores)))"
   ]
  },
  {
   "cell_type": "markdown",
   "metadata": {
    "colab_type": "text",
    "id": "qH8qdSGIHpx0"
   },
   "source": [
    "Accuracy: 0.478 (0.009)"
   ]
  },
  {
   "cell_type": "code",
   "execution_count": 187,
   "metadata": {
    "colab": {
     "base_uri": "https://localhost:8080/",
     "height": 306
    },
    "colab_type": "code",
    "id": "HyWQlmwltfFj",
    "outputId": "8be7854d-69e6-41e3-c44b-3c2ad3c1b94f"
   },
   "outputs": [
    {
     "name": "stderr",
     "output_type": "stream",
     "text": [
      "/usr/local/lib/python3.6/dist-packages/sklearn/preprocessing/_label.py:235: DataConversionWarning: A column-vector y was passed when a 1d array was expected. Please change the shape of y to (n_samples, ), for example using ravel().\n",
      "  y = column_or_1d(y, warn=True)\n",
      "/usr/local/lib/python3.6/dist-packages/sklearn/preprocessing/_label.py:268: DataConversionWarning: A column-vector y was passed when a 1d array was expected. Please change the shape of y to (n_samples, ), for example using ravel().\n",
      "  y = column_or_1d(y, warn=True)\n",
      "/usr/local/lib/python3.6/dist-packages/lightgbm/engine.py:118: UserWarning: Found `num_trees` in params. Will use it instead of argument\n",
      "  warnings.warn(\"Found `{}` in params. Will use it instead of argument\".format(alias))\n"
     ]
    },
    {
     "data": {
      "text/plain": [
       "LGBMClassifier(bin_construct_sample_cnt=300000, boosting_type='gbdt',\n",
       "               class_weight=None, colsample_bytree=1.0, importance_type='split',\n",
       "               is_unbalance=True, lambda_l2=0.03, learning_rate=0.3,\n",
       "               max_bin=525, max_depth=8, metric='multi_logloss',\n",
       "               min_child_samples=20, min_child_weight=0.001, min_data_in_bin=4,\n",
       "               min_data_in_leaf=2, min_split_gain=0.0, n_estimators=665,\n",
       "               n_jobs=-1, num_class=3, num_leaves=225, num_thread=12,\n",
       "               num_trees=500, objective='multiclass', random_seed=42,\n",
       "               random_state=None, reg_alpha=0.0, reg_lambda=0.0, silent=True,\n",
       "               subsample=1.0, subsample_for_bin=200000, ...)"
      ]
     },
     "execution_count": 187,
     "metadata": {
      "tags": []
     },
     "output_type": "execute_result"
    }
   ],
   "source": [
    "model.fit(X_train, y_train,eval_metric=f1_eval)"
   ]
  },
  {
   "cell_type": "code",
   "execution_count": 0,
   "metadata": {
    "colab": {},
    "colab_type": "code",
    "id": "5wZ3LTi9tQvH"
   },
   "outputs": [],
   "source": [
    "\n",
    "yhat = model.predict(X_val)"
   ]
  },
  {
   "cell_type": "code",
   "execution_count": 191,
   "metadata": {
    "colab": {
     "base_uri": "https://localhost:8080/",
     "height": 67
    },
    "colab_type": "code",
    "id": "ZUkbOl72w3ui",
    "outputId": "115bb65a-1eb5-4282-a3b3-052172e491d2"
   },
   "outputs": [
    {
     "data": {
      "text/plain": [
       "array([[  9,  98,  10],\n",
       "       [ 42, 177,  24],\n",
       "       [ 24,  85,  17]])"
      ]
     },
     "execution_count": 191,
     "metadata": {
      "tags": []
     },
     "output_type": "execute_result"
    }
   ],
   "source": [
    " from sklearn.metrics import confusion_matrix\n",
    "cm = confusion_matrix(y_val, yhat)\n",
    "cm"
   ]
  },
  {
   "cell_type": "code",
   "execution_count": 0,
   "metadata": {
    "colab": {},
    "colab_type": "code",
    "id": "uyCJIXeHBZKD"
   },
   "outputs": [],
   "source": [
    "array([[ 11,  94,  12],\n",
    "       [ 26, 192,  25],\n",
    "       [ 15,  91,  20]])\n",
    "array([[ 16,  94,   7],\n",
    "       [ 23, 195,  25],\n",
    "       [ 13, 100,  13]])"
   ]
  },
  {
   "cell_type": "code",
   "execution_count": 192,
   "metadata": {
    "colab": {
     "base_uri": "https://localhost:8080/",
     "height": 34
    },
    "colab_type": "code",
    "id": "Fqg0qDG0xf8_",
    "outputId": "9b68b01e-be2a-4563-a4c0-9eb46aa760ca"
   },
   "outputs": [
    {
     "data": {
      "text/plain": [
       "(1387,)"
      ]
     },
     "execution_count": 192,
     "metadata": {
      "tags": []
     },
     "output_type": "execute_result"
    }
   ],
   "source": [
    "y_pred2 = model.predict(xtest)\n",
    "y_pred2.shape"
   ]
  },
  {
   "cell_type": "code",
   "execution_count": 0,
   "metadata": {
    "colab": {},
    "colab_type": "code",
    "id": "XT1MrqpZyAil"
   },
   "outputs": [],
   "source": []
  },
  {
   "cell_type": "code",
   "execution_count": 193,
   "metadata": {
    "colab": {
     "base_uri": "https://localhost:8080/",
     "height": 34
    },
    "colab_type": "code",
    "id": "I0dei5jLxmT_",
    "outputId": "bbfe42fd-77b7-431e-e2b2-801485ac4425"
   },
   "outputs": [
    {
     "data": {
      "text/plain": [
       "(1387,)"
      ]
     },
     "execution_count": 193,
     "metadata": {
      "tags": []
     },
     "output_type": "execute_result"
    }
   ],
   "source": [
    "ID=df2['id']\n",
    "ID.shape"
   ]
  },
  {
   "cell_type": "code",
   "execution_count": 195,
   "metadata": {
    "colab": {
     "base_uri": "https://localhost:8080/",
     "height": 84
    },
    "colab_type": "code",
    "id": "rxKCn15nxmWo",
    "outputId": "94d7d356-1a15-469b-860f-b391c673ede3"
   },
   "outputs": [
    {
     "name": "stdout",
     "output_type": "stream",
     "text": [
      " 0    1037\n",
      "-1     175\n",
      " 1     175\n",
      "Name: 0, dtype: int64\n"
     ]
    }
   ],
   "source": [
    "pred=pd.DataFrame(y_pred2)\n",
    "datasets=pd.concat([ID,pred], axis=1)\n",
    "\n",
    "datasets.columns =['id', 'sentiment_class']\n",
    "datasets.to_csv('lgbm32.csv',index=False)\n",
    "!cp lgbm32.csv \"drive/My Drive/\"\n",
    "\n",
    "print(pred[0].value_counts())"
   ]
  },
  {
   "cell_type": "code",
   "execution_count": 0,
   "metadata": {
    "colab": {},
    "colab_type": "code",
    "id": "I9W1a6Bh1REk"
   },
   "outputs": [],
   "source": [
    "import pickle \n"
   ]
  },
  {
   "cell_type": "code",
   "execution_count": 0,
   "metadata": {
    "colab": {},
    "colab_type": "code",
    "id": "H1kjElJGMGg-"
   },
   "outputs": [],
   "source": [
    "lightgbm1 = pickle.dumps(model)"
   ]
  },
  {
   "cell_type": "code",
   "execution_count": 0,
   "metadata": {
    "colab": {},
    "colab_type": "code",
    "id": "6XKX9b5xMGsB"
   },
   "outputs": [],
   "source": [
    "lgbm = pickle.loads(lightgbm1)"
   ]
  },
  {
   "cell_type": "code",
   "execution_count": 202,
   "metadata": {
    "colab": {
     "base_uri": "https://localhost:8080/",
     "height": 70
    },
    "colab_type": "code",
    "id": "lkOqcwIxMmPy",
    "outputId": "962a5078-5ecd-46b0-8a3d-37430375e123"
   },
   "outputs": [
    {
     "name": "stderr",
     "output_type": "stream",
     "text": [
      "/usr/local/lib/python3.6/dist-packages/sklearn/externals/joblib/__init__.py:15: FutureWarning: sklearn.externals.joblib is deprecated in 0.21 and will be removed in 0.23. Please import this functionality directly from joblib, which can be installed with: pip install joblib. If this warning is raised when loading pickled models, you may need to re-serialize those models with scikit-learn 0.21+.\n",
      "  warnings.warn(msg, category=FutureWarning)\n"
     ]
    }
   ],
   "source": [
    "from sklearn.externals import joblib"
   ]
  },
  {
   "cell_type": "code",
   "execution_count": 207,
   "metadata": {
    "colab": {
     "base_uri": "https://localhost:8080/",
     "height": 34
    },
    "colab_type": "code",
    "id": "YX9nnB8EMmS7",
    "outputId": "efcf8e60-7a2a-4cb1-de56-3e2485fd753e"
   },
   "outputs": [
    {
     "data": {
      "text/plain": [
       "['lgbm.pkl']"
      ]
     },
     "execution_count": 207,
     "metadata": {
      "tags": []
     },
     "output_type": "execute_result"
    }
   ],
   "source": [
    "# Save the model as a pickle in a file \n",
    "joblib.dump(model, 'lgbm.pkl') "
   ]
  },
  {
   "cell_type": "code",
   "execution_count": 0,
   "metadata": {
    "colab": {},
    "colab_type": "code",
    "id": "Fk-15rj5NCJZ"
   },
   "outputs": [],
   "source": []
  }
 ],
 "metadata": {
  "colab": {
   "collapsed_sections": [],
   "name": "lgbm2.ipynb",
   "provenance": []
  },
  "kernelspec": {
   "display_name": "Python 3",
   "language": "python",
   "name": "python3"
  },
  "language_info": {
   "codemirror_mode": {
    "name": "ipython",
    "version": 3
   },
   "file_extension": ".py",
   "mimetype": "text/x-python",
   "name": "python",
   "nbconvert_exporter": "python",
   "pygments_lexer": "ipython3",
   "version": "3.6.10"
  }
 },
 "nbformat": 4,
 "nbformat_minor": 1
}
